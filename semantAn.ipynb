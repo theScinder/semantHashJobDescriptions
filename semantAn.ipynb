{
 "cells": [
  {
   "cell_type": "code",
   "execution_count": null,
   "metadata": {
    "collapsed": true
   },
   "outputs": [],
   "source": [
    "# This notebook is intended to perform semantic analysis of e.g. job descriptions scraped from postings on the web.\n",
    "# The output is a dimensionality reduced vector of nodes which can be used to compare and match jobs\n",
    "# The idea is largely based on Semantic hashing by Ruslan Salakhutdinov, Geoffrey Hinton in the Journal of\n",
    "# Approximate Reasoning, (2009)\n",
    "# www.thescinder.com\n"
   ]
  },
  {
   "cell_type": "code",
   "execution_count": 20,
   "metadata": {
    "collapsed": false
   },
   "outputs": [
    {
     "name": "stdout",
     "output_type": "stream",
     "text": [
      "<http.client.HTTPResponse object at 0x7f2e24c48a90>\n"
     ]
    }
   ],
   "source": [
    "#OUTLINE\n",
    "\n",
    "# 0. Import necessary packages and define functions for backpropagation and unsupervised learning with RBMs.  \n",
    "# 1. Scrape the text from job descriptions based on a list of urls, defined by the user\n",
    "# 2. Convert the job descriptions text into bag of words vectors based on the word frequencies\n",
    "# 3. Train restricted Boltzmann machines on the bag-of-words vectors\n",
    "# 4. Using the pre-trained RBM layers as the starting weights to a neural network, train the NN to reproduce the \n",
    "# bag of words vectors via backpropagation\n"
   ]
  },
  {
   "cell_type": "code",
   "execution_count": 21,
   "metadata": {
    "collapsed": true
   },
   "outputs": [],
   "source": [
    "# 0. Import necessary packages and define functions for backpropagation and unsupervised learning with RBMs.  \n",
    "\n",
    "# Import numpy, natch\n",
    "import numpy as np\n",
    "# For tic-toc funcitonality\n",
    "import time\n",
    "\n",
    "# Set up plotting\n",
    "import matplotlib\n",
    "import matplotlib.pyplot as plt\n",
    "%matplotlib inline\n",
    "%config InlineBackend.figure_format = 'retina'\n",
    "\n",
    "import urllib.request"
   ]
  },
  {
   "cell_type": "code",
   "execution_count": null,
   "metadata": {
    "collapsed": true
   },
   "outputs": [],
   "source": []
  }
 ],
 "metadata": {
  "anaconda-cloud": {},
  "kernelspec": {
   "display_name": "Python [default]",
   "language": "python",
   "name": "python3"
  },
  "language_info": {
   "codemirror_mode": {
    "name": "ipython",
    "version": 3
   },
   "file_extension": ".py",
   "mimetype": "text/x-python",
   "name": "python",
   "nbconvert_exporter": "python",
   "pygments_lexer": "ipython3",
   "version": "3.5.2"
  }
 },
 "nbformat": 4,
 "nbformat_minor": 1
}
